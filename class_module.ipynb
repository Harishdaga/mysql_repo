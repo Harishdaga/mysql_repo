{
 "cells": [
  {
   "cell_type": "code",
   "execution_count": 1,
   "id": "c71e7d91-dcc0-4195-aa76-8787bbaf1ec1",
   "metadata": {},
   "outputs": [],
   "source": [
    "import mysql.connector\n",
    "import boto3\n",
    "import json\n",
    "import pandas as pd"
   ]
  },
  {
   "cell_type": "code",
   "execution_count": 2,
   "id": "b9577456-3a97-43f2-a0dd-35d65d909a92",
   "metadata": {},
   "outputs": [],
   "source": [
    "class MySqlConnection:\n",
    "    def __init__(self):\n",
    "        pass\n",
    "        \n",
    "\n",
    "    def get_connection(self, host, user, password):\n",
    "        connection = mysql.connector.connect(\n",
    "            host=host,\n",
    "            user=user,\n",
    "            password=password)\n",
    "        print('connect successfully!!!')\n",
    "        return connection\n",
    "\n",
    "    def get_connection_by_json(self, json_file):\n",
    "        with open(json_file, 'r') as file:\n",
    "            auth = json.load(file)\n",
    "        connection = self.get_connection(auth['host'], auth['user'], auth['password'])\n",
    "        return connection\n",
    "\n",
    "    def get_database_names(self, connection, with_default_database = False):\n",
    "        if with_default_database:\n",
    "            cursor = connection.cursor()\n",
    "            cursor.execute('show databases')\n",
    "            databases = [database[0] for database in cursor.fetchall()]\n",
    "        else:\n",
    "            cursor = connection.cursor()\n",
    "            cursor.execute(\"SHOW DATABASES WHERE `Database` NOT IN ('information_schema', 'mysql', 'performance_schema', 'sys')\")\n",
    "            databases = [database[0] for database in cursor.fetchall()]\n",
    "            \n",
    "        return databases\n",
    "\n",
    "    def get_table_names(self, connection, database):\n",
    "        try:\n",
    "            if type(database) == list:\n",
    "                table_list = {}\n",
    "                for db in database:\n",
    "                    cursor = connection.cursor()\n",
    "                    cursor.execute(f'use {db}')\n",
    "                    cursor.execute('show tables')\n",
    "                    tables = [table[0] for table in cursor.fetchall()]\n",
    "                    table_list[db] = tables\n",
    "            return table_list\n",
    "        except Exception as e:\n",
    "            return f'connection problem: {e}'\n",
    " \n",
    "    def get_table_df(self, table_dict):\n",
    "        try:\n",
    "            table_data = []\n",
    "            for database, tables in table_dict.items():\n",
    "                for table in tables:\n",
    "                    table_data.append([database, table])\n",
    "            df = pd.DataFrame(table_data, columns=['database_name', 'table_name'])\n",
    "            return df\n",
    "        except Exception as e:\n",
    "            return f'problem: {e}'\n",
    "        \n",
    "        "
   ]
  },
  {
   "cell_type": "code",
   "execution_count": 4,
   "id": "176e8f91-4750-46d3-997a-a05249b133b3",
   "metadata": {},
   "outputs": [],
   "source": [
    "mydatabase = MySqlConnection()"
   ]
  },
  {
   "cell_type": "code",
   "execution_count": 5,
   "id": "695a2134-9781-4b71-a940-d061800b2abb",
   "metadata": {},
   "outputs": [
    {
     "name": "stdout",
     "output_type": "stream",
     "text": [
      "<class '__main__.MySqlConnection'>\n"
     ]
    }
   ],
   "source": [
    "print(type(mydatabase))"
   ]
  },
  {
   "cell_type": "code",
   "execution_count": 6,
   "id": "9a0ecce9-0ea6-4dd8-8f41-9d0a923a9636",
   "metadata": {},
   "outputs": [
    {
     "name": "stdout",
     "output_type": "stream",
     "text": [
      "connect successfully!!!\n"
     ]
    }
   ],
   "source": [
    "connection = mydatabase.get_connection_by_json('mysql_auth.json')"
   ]
  },
  {
   "cell_type": "code",
   "execution_count": 11,
   "id": "9ebd3130-9400-4228-be28-fde40f5267b0",
   "metadata": {},
   "outputs": [],
   "source": [
    "databases = mydatabase.get_database_names(connection)"
   ]
  },
  {
   "cell_type": "code",
   "execution_count": 12,
   "id": "c8af2604-09ea-4e0d-b17c-ad344147a7b3",
   "metadata": {},
   "outputs": [
    {
     "data": {
      "text/plain": [
       "['school', 'school_2']"
      ]
     },
     "execution_count": 12,
     "metadata": {},
     "output_type": "execute_result"
    }
   ],
   "source": [
    "databases"
   ]
  },
  {
   "cell_type": "code",
   "execution_count": 13,
   "id": "c941d7b7-1053-4a36-91af-444330278626",
   "metadata": {},
   "outputs": [],
   "source": [
    "tables = mydatabase.get_table_names(connection, databases)"
   ]
  },
  {
   "cell_type": "code",
   "execution_count": 14,
   "id": "51e540d2-2ed7-48ed-bfb9-b0e25f5a41d9",
   "metadata": {},
   "outputs": [
    {
     "data": {
      "text/plain": [
       "{'school': ['class_10', 'class_11', 'class_12', 'class_9', 'teacher'],\n",
       " 'school_2': ['class_10',\n",
       "  'class_11',\n",
       "  'class_12',\n",
       "  'class_8',\n",
       "  'class_9',\n",
       "  'teacher']}"
      ]
     },
     "execution_count": 14,
     "metadata": {},
     "output_type": "execute_result"
    }
   ],
   "source": [
    "tables"
   ]
  },
  {
   "cell_type": "code",
   "execution_count": 15,
   "id": "a9132e43-1bf6-4e12-badc-87736c39104a",
   "metadata": {},
   "outputs": [],
   "source": [
    "df = mydatabase.get_table_df(tables)"
   ]
  },
  {
   "cell_type": "code",
   "execution_count": 16,
   "id": "08654a8c-6f41-45f8-98a1-64749b777e47",
   "metadata": {},
   "outputs": [
    {
     "data": {
      "text/html": [
       "<div>\n",
       "<style scoped>\n",
       "    .dataframe tbody tr th:only-of-type {\n",
       "        vertical-align: middle;\n",
       "    }\n",
       "\n",
       "    .dataframe tbody tr th {\n",
       "        vertical-align: top;\n",
       "    }\n",
       "\n",
       "    .dataframe thead th {\n",
       "        text-align: right;\n",
       "    }\n",
       "</style>\n",
       "<table border=\"1\" class=\"dataframe\">\n",
       "  <thead>\n",
       "    <tr style=\"text-align: right;\">\n",
       "      <th></th>\n",
       "      <th>database_name</th>\n",
       "      <th>table_name</th>\n",
       "    </tr>\n",
       "  </thead>\n",
       "  <tbody>\n",
       "    <tr>\n",
       "      <th>0</th>\n",
       "      <td>school</td>\n",
       "      <td>class_10</td>\n",
       "    </tr>\n",
       "    <tr>\n",
       "      <th>1</th>\n",
       "      <td>school</td>\n",
       "      <td>class_11</td>\n",
       "    </tr>\n",
       "    <tr>\n",
       "      <th>2</th>\n",
       "      <td>school</td>\n",
       "      <td>class_12</td>\n",
       "    </tr>\n",
       "    <tr>\n",
       "      <th>3</th>\n",
       "      <td>school</td>\n",
       "      <td>class_9</td>\n",
       "    </tr>\n",
       "    <tr>\n",
       "      <th>4</th>\n",
       "      <td>school</td>\n",
       "      <td>teacher</td>\n",
       "    </tr>\n",
       "    <tr>\n",
       "      <th>5</th>\n",
       "      <td>school_2</td>\n",
       "      <td>class_10</td>\n",
       "    </tr>\n",
       "    <tr>\n",
       "      <th>6</th>\n",
       "      <td>school_2</td>\n",
       "      <td>class_11</td>\n",
       "    </tr>\n",
       "    <tr>\n",
       "      <th>7</th>\n",
       "      <td>school_2</td>\n",
       "      <td>class_12</td>\n",
       "    </tr>\n",
       "    <tr>\n",
       "      <th>8</th>\n",
       "      <td>school_2</td>\n",
       "      <td>class_8</td>\n",
       "    </tr>\n",
       "    <tr>\n",
       "      <th>9</th>\n",
       "      <td>school_2</td>\n",
       "      <td>class_9</td>\n",
       "    </tr>\n",
       "    <tr>\n",
       "      <th>10</th>\n",
       "      <td>school_2</td>\n",
       "      <td>teacher</td>\n",
       "    </tr>\n",
       "  </tbody>\n",
       "</table>\n",
       "</div>"
      ],
      "text/plain": [
       "   database_name table_name\n",
       "0         school   class_10\n",
       "1         school   class_11\n",
       "2         school   class_12\n",
       "3         school    class_9\n",
       "4         school    teacher\n",
       "5       school_2   class_10\n",
       "6       school_2   class_11\n",
       "7       school_2   class_12\n",
       "8       school_2    class_8\n",
       "9       school_2    class_9\n",
       "10      school_2    teacher"
      ]
     },
     "execution_count": 16,
     "metadata": {},
     "output_type": "execute_result"
    }
   ],
   "source": [
    "df"
   ]
  },
  {
   "cell_type": "code",
   "execution_count": null,
   "id": "af81718b-6c7e-47ce-97bd-ec996cdd0049",
   "metadata": {},
   "outputs": [],
   "source": []
  }
 ],
 "metadata": {
  "kernelspec": {
   "display_name": "Python 3 (ipykernel)",
   "language": "python",
   "name": "python3"
  },
  "language_info": {
   "codemirror_mode": {
    "name": "ipython",
    "version": 3
   },
   "file_extension": ".py",
   "mimetype": "text/x-python",
   "name": "python",
   "nbconvert_exporter": "python",
   "pygments_lexer": "ipython3",
   "version": "3.12.4"
  }
 },
 "nbformat": 4,
 "nbformat_minor": 5
}
